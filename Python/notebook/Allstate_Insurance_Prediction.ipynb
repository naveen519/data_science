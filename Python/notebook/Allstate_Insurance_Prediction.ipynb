{
 "cells": [
  {
   "cell_type": "code",
   "execution_count": 2,
   "metadata": {},
   "outputs": [
    {
     "data": {
      "text/plain": [
       "'/home/visa'"
      ]
     },
     "execution_count": 2,
     "metadata": {},
     "output_type": "execute_result"
    }
   ],
   "source": [
    "%pwd"
   ]
  },
  {
   "cell_type": "code",
   "execution_count": 1,
   "metadata": {},
   "outputs": [],
   "source": [
    "import xgboost"
   ]
  },
  {
   "cell_type": "code",
   "execution_count": 12,
   "metadata": {},
   "outputs": [],
   "source": [
    "import os\n",
    "os.chdir(\"/home/visa/Python\")"
   ]
  },
  {
   "cell_type": "code",
   "execution_count": 13,
   "metadata": {},
   "outputs": [],
   "source": [
    "import pandas as pd \n",
    "import xgboost as xgb\n",
    "from pandas import datetime\n",
    "from sklearn.preprocessing import LabelEncoder\n",
    "from sklearn import preprocessing\n",
    "from sklearn.cross_validation import train_test_split\n",
    "from sklearn.metrics import confusion_matrix"
   ]
  },
  {
   "cell_type": "code",
   "execution_count": 14,
   "metadata": {},
   "outputs": [],
   "source": [
    "allstate = pd.read_csv(\"Purchase.csv\")"
   ]
  },
  {
   "cell_type": "code",
   "execution_count": 15,
   "metadata": {
    "scrolled": true
   },
   "outputs": [
    {
     "data": {
      "text/html": [
       "<div>\n",
       "<style scoped>\n",
       "    .dataframe tbody tr th:only-of-type {\n",
       "        vertical-align: middle;\n",
       "    }\n",
       "\n",
       "    .dataframe tbody tr th {\n",
       "        vertical-align: top;\n",
       "    }\n",
       "\n",
       "    .dataframe thead th {\n",
       "        text-align: right;\n",
       "    }\n",
       "</style>\n",
       "<table border=\"1\" class=\"dataframe\">\n",
       "  <thead>\n",
       "    <tr style=\"text-align: right;\">\n",
       "      <th></th>\n",
       "      <th>QuoteNumber</th>\n",
       "      <th>Original_Quote_Date</th>\n",
       "      <th>QuoteConversion_Flag</th>\n",
       "      <th>Field6</th>\n",
       "      <th>Field7</th>\n",
       "      <th>Field8</th>\n",
       "      <th>Field9</th>\n",
       "      <th>Field10</th>\n",
       "      <th>Field11</th>\n",
       "      <th>Field12</th>\n",
       "      <th>...</th>\n",
       "      <th>GeographicField59A</th>\n",
       "      <th>GeographicField59B</th>\n",
       "      <th>GeographicField60A</th>\n",
       "      <th>GeographicField60B</th>\n",
       "      <th>GeographicField61A</th>\n",
       "      <th>GeographicField61B</th>\n",
       "      <th>GeographicField62A</th>\n",
       "      <th>GeographicField62B</th>\n",
       "      <th>GeographicField63</th>\n",
       "      <th>GeographicField64</th>\n",
       "    </tr>\n",
       "  </thead>\n",
       "  <tbody>\n",
       "    <tr>\n",
       "      <th>0</th>\n",
       "      <td>1</td>\n",
       "      <td>2013-08-16</td>\n",
       "      <td>0</td>\n",
       "      <td>B</td>\n",
       "      <td>23</td>\n",
       "      <td>0.9403</td>\n",
       "      <td>0.0006</td>\n",
       "      <td>965</td>\n",
       "      <td>1.0200</td>\n",
       "      <td>N</td>\n",
       "      <td>...</td>\n",
       "      <td>9</td>\n",
       "      <td>9</td>\n",
       "      <td>-1</td>\n",
       "      <td>8</td>\n",
       "      <td>-1</td>\n",
       "      <td>18</td>\n",
       "      <td>-1</td>\n",
       "      <td>10</td>\n",
       "      <td>N</td>\n",
       "      <td>CA</td>\n",
       "    </tr>\n",
       "    <tr>\n",
       "      <th>1</th>\n",
       "      <td>2</td>\n",
       "      <td>2014-04-22</td>\n",
       "      <td>0</td>\n",
       "      <td>F</td>\n",
       "      <td>7</td>\n",
       "      <td>1.0006</td>\n",
       "      <td>0.0040</td>\n",
       "      <td>548</td>\n",
       "      <td>1.2433</td>\n",
       "      <td>N</td>\n",
       "      <td>...</td>\n",
       "      <td>10</td>\n",
       "      <td>10</td>\n",
       "      <td>-1</td>\n",
       "      <td>11</td>\n",
       "      <td>-1</td>\n",
       "      <td>17</td>\n",
       "      <td>-1</td>\n",
       "      <td>20</td>\n",
       "      <td>N</td>\n",
       "      <td>NJ</td>\n",
       "    </tr>\n",
       "    <tr>\n",
       "      <th>2</th>\n",
       "      <td>4</td>\n",
       "      <td>2014-08-25</td>\n",
       "      <td>0</td>\n",
       "      <td>F</td>\n",
       "      <td>7</td>\n",
       "      <td>1.0006</td>\n",
       "      <td>0.0040</td>\n",
       "      <td>548</td>\n",
       "      <td>1.2433</td>\n",
       "      <td>N</td>\n",
       "      <td>...</td>\n",
       "      <td>15</td>\n",
       "      <td>18</td>\n",
       "      <td>-1</td>\n",
       "      <td>21</td>\n",
       "      <td>-1</td>\n",
       "      <td>11</td>\n",
       "      <td>-1</td>\n",
       "      <td>8</td>\n",
       "      <td>N</td>\n",
       "      <td>NJ</td>\n",
       "    </tr>\n",
       "    <tr>\n",
       "      <th>3</th>\n",
       "      <td>6</td>\n",
       "      <td>2013-04-15</td>\n",
       "      <td>0</td>\n",
       "      <td>J</td>\n",
       "      <td>10</td>\n",
       "      <td>0.9769</td>\n",
       "      <td>0.0004</td>\n",
       "      <td>1,165</td>\n",
       "      <td>1.2665</td>\n",
       "      <td>N</td>\n",
       "      <td>...</td>\n",
       "      <td>6</td>\n",
       "      <td>5</td>\n",
       "      <td>-1</td>\n",
       "      <td>10</td>\n",
       "      <td>-1</td>\n",
       "      <td>9</td>\n",
       "      <td>-1</td>\n",
       "      <td>21</td>\n",
       "      <td>N</td>\n",
       "      <td>TX</td>\n",
       "    </tr>\n",
       "    <tr>\n",
       "      <th>4</th>\n",
       "      <td>8</td>\n",
       "      <td>2014-01-25</td>\n",
       "      <td>0</td>\n",
       "      <td>E</td>\n",
       "      <td>23</td>\n",
       "      <td>0.9472</td>\n",
       "      <td>0.0006</td>\n",
       "      <td>1,487</td>\n",
       "      <td>1.3045</td>\n",
       "      <td>N</td>\n",
       "      <td>...</td>\n",
       "      <td>18</td>\n",
       "      <td>22</td>\n",
       "      <td>-1</td>\n",
       "      <td>10</td>\n",
       "      <td>-1</td>\n",
       "      <td>11</td>\n",
       "      <td>-1</td>\n",
       "      <td>12</td>\n",
       "      <td>N</td>\n",
       "      <td>IL</td>\n",
       "    </tr>\n",
       "  </tbody>\n",
       "</table>\n",
       "<p>5 rows × 299 columns</p>\n",
       "</div>"
      ],
      "text/plain": [
       "   QuoteNumber Original_Quote_Date  QuoteConversion_Flag Field6  Field7  \\\n",
       "0            1          2013-08-16                     0      B      23   \n",
       "1            2          2014-04-22                     0      F       7   \n",
       "2            4          2014-08-25                     0      F       7   \n",
       "3            6          2013-04-15                     0      J      10   \n",
       "4            8          2014-01-25                     0      E      23   \n",
       "\n",
       "   Field8  Field9 Field10  Field11 Field12        ...          \\\n",
       "0  0.9403  0.0006     965   1.0200       N        ...           \n",
       "1  1.0006  0.0040     548   1.2433       N        ...           \n",
       "2  1.0006  0.0040     548   1.2433       N        ...           \n",
       "3  0.9769  0.0004   1,165   1.2665       N        ...           \n",
       "4  0.9472  0.0006   1,487   1.3045       N        ...           \n",
       "\n",
       "   GeographicField59A  GeographicField59B  GeographicField60A  \\\n",
       "0                   9                   9                  -1   \n",
       "1                  10                  10                  -1   \n",
       "2                  15                  18                  -1   \n",
       "3                   6                   5                  -1   \n",
       "4                  18                  22                  -1   \n",
       "\n",
       "   GeographicField60B  GeographicField61A  GeographicField61B  \\\n",
       "0                   8                  -1                  18   \n",
       "1                  11                  -1                  17   \n",
       "2                  21                  -1                  11   \n",
       "3                  10                  -1                   9   \n",
       "4                  10                  -1                  11   \n",
       "\n",
       "   GeographicField62A  GeographicField62B  GeographicField63  \\\n",
       "0                  -1                  10                  N   \n",
       "1                  -1                  20                  N   \n",
       "2                  -1                   8                  N   \n",
       "3                  -1                  21                  N   \n",
       "4                  -1                  12                  N   \n",
       "\n",
       "   GeographicField64  \n",
       "0                 CA  \n",
       "1                 NJ  \n",
       "2                 NJ  \n",
       "3                 TX  \n",
       "4                 IL  \n",
       "\n",
       "[5 rows x 299 columns]"
      ]
     },
     "execution_count": 15,
     "metadata": {},
     "output_type": "execute_result"
    }
   ],
   "source": [
    "allstate.head()"
   ]
  },
  {
   "cell_type": "code",
   "execution_count": 18,
   "metadata": {},
   "outputs": [
    {
     "data": {
      "text/plain": [
       "QuoteConversion_Flag      int64\n",
       "Field6                    int64\n",
       "Field7                    int64\n",
       "Field8                  float64\n",
       "Field9                  float64\n",
       "Field10                   int64\n",
       "Field11                 float64\n",
       "Field12                   int64\n",
       "CoverageField1A           int64\n",
       "CoverageField1B           int64\n",
       "CoverageField2A           int64\n",
       "CoverageField2B           int64\n",
       "CoverageField3A           int64\n",
       "CoverageField3B           int64\n",
       "CoverageField4A           int64\n",
       "CoverageField4B           int64\n",
       "CoverageField5A           int64\n",
       "CoverageField5B           int64\n",
       "CoverageField6A           int64\n",
       "CoverageField6B           int64\n",
       "CoverageField8            int64\n",
       "CoverageField9            int64\n",
       "CoverageField11A          int64\n",
       "CoverageField11B          int64\n",
       "SalesField1A              int64\n",
       "SalesField1B              int64\n",
       "SalesField2A              int64\n",
       "SalesField2B              int64\n",
       "SalesField3               int64\n",
       "SalesField4               int64\n",
       "                         ...   \n",
       "GeographicField51A        int64\n",
       "GeographicField51B        int64\n",
       "GeographicField52A        int64\n",
       "GeographicField52B        int64\n",
       "GeographicField53A        int64\n",
       "GeographicField53B        int64\n",
       "GeographicField54A        int64\n",
       "GeographicField54B        int64\n",
       "GeographicField55A        int64\n",
       "GeographicField55B        int64\n",
       "GeographicField56A        int64\n",
       "GeographicField56B        int64\n",
       "GeographicField57A        int64\n",
       "GeographicField57B        int64\n",
       "GeographicField58A        int64\n",
       "GeographicField58B        int64\n",
       "GeographicField59A        int64\n",
       "GeographicField59B        int64\n",
       "GeographicField60A        int64\n",
       "GeographicField60B        int64\n",
       "GeographicField61A        int64\n",
       "GeographicField61B        int64\n",
       "GeographicField62A        int64\n",
       "GeographicField62B        int64\n",
       "GeographicField63         int64\n",
       "GeographicField64         int64\n",
       "weekday                   int64\n",
       "weekyear                  int64\n",
       "Year                      int64\n",
       "Month                     int64\n",
       "dtype: object"
      ]
     },
     "execution_count": 18,
     "metadata": {},
     "output_type": "execute_result"
    }
   ],
   "source": [
    "allstate.dtypes"
   ]
  },
  {
   "cell_type": "code",
   "execution_count": 16,
   "metadata": {},
   "outputs": [],
   "source": [
    "allstate['Date'] = pd.to_datetime(pd.Series(allstate['Original_Quote_Date']))"
   ]
  },
  {
   "cell_type": "code",
   "execution_count": 17,
   "metadata": {},
   "outputs": [],
   "source": [
    "allstate = allstate.drop([\"Original_Quote_Date\",\"QuoteNumber\" ], axis=1)"
   ]
  },
  {
   "cell_type": "code",
   "execution_count": 18,
   "metadata": {},
   "outputs": [],
   "source": [
    "allstate['weekday'] = allstate['Date'].dt.dayofweek\n",
    "allstate['weekyear'] = allstate['Date'].dt.weekofyear\n",
    "allstate['Year'] = allstate['Date'].dt.year\n",
    "allstate['Month'] = allstate['Date'].dt.month"
   ]
  },
  {
   "cell_type": "code",
   "execution_count": 19,
   "metadata": {},
   "outputs": [],
   "source": [
    "allstate = allstate.drop([\"Date\"], axis=1)"
   ]
  },
  {
   "cell_type": "code",
   "execution_count": 20,
   "metadata": {},
   "outputs": [],
   "source": [
    "for f in allstate.columns:\n",
    "    if allstate[f].dtype=='object':\n",
    "        #print(f)\n",
    "        lbl = preprocessing.LabelEncoder()\n",
    "        lbl.fit(list(allstate[f].values))\n",
    "        allstate[f] = lbl.transform(list(allstate[f].values))\n"
   ]
  },
  {
   "cell_type": "code",
   "execution_count": 21,
   "metadata": {},
   "outputs": [],
   "source": [
    "allstate = allstate.fillna(-99)"
   ]
  },
  {
   "cell_type": "code",
   "execution_count": 14,
   "metadata": {
    "collapsed": true
   },
   "outputs": [],
   "source": [
    "a = [\"x\", \"x\", \"x\", \"y\", \"y\",\"z\"]"
   ]
  },
  {
   "cell_type": "code",
   "execution_count": 15,
   "metadata": {},
   "outputs": [
    {
     "data": {
      "text/plain": [
       "LabelEncoder()"
      ]
     },
     "execution_count": 15,
     "metadata": {},
     "output_type": "execute_result"
    }
   ],
   "source": [
    "lbl = preprocessing.LabelEncoder()\n",
    "lbl.fit(list(a))"
   ]
  },
  {
   "cell_type": "code",
   "execution_count": 16,
   "metadata": {},
   "outputs": [
    {
     "data": {
      "text/plain": [
       "array([0, 1, 2, 2, 0, 1, 2])"
      ]
     },
     "execution_count": 16,
     "metadata": {},
     "output_type": "execute_result"
    }
   ],
   "source": [
    "lbl.transform([\"x\",\"y\",\"z\",\"z\", \"x\", \"y\", \"z\"])"
   ]
  },
  {
   "cell_type": "code",
   "execution_count": 22,
   "metadata": {},
   "outputs": [],
   "source": [
    "target = allstate[\"QuoteConversion_Flag\"]"
   ]
  },
  {
   "cell_type": "code",
   "execution_count": 23,
   "metadata": {},
   "outputs": [],
   "source": [
    "allstate = allstate.drop(['QuoteConversion_Flag'], axis=1)"
   ]
  },
  {
   "cell_type": "code",
   "execution_count": 24,
   "metadata": {},
   "outputs": [],
   "source": [
    "X_train, X_test, y_train, y_test = train_test_split(allstate, target, test_size=0.25, random_state = 1234)"
   ]
  },
  {
   "cell_type": "code",
   "execution_count": 27,
   "metadata": {},
   "outputs": [],
   "source": [
    "clf = xgb.XGBClassifier(n_estimators=100,\n",
    "                        #eta = 0.01, \n",
    "                        learning_rate=0.01,\n",
    "                        nthread=-1,\n",
    "                        max_depth=12,\n",
    "                        subsample=0.6,\n",
    "                        colsample_bytree=0.6,\n",
    "                       silent=False,\n",
    "                       verbose = 10)\n"
   ]
  },
  {
   "cell_type": "code",
   "execution_count": 28,
   "metadata": {},
   "outputs": [],
   "source": [
    "xgb_model = clf.fit(X_train, y_train, eval_metric=\"error\")"
   ]
  },
  {
   "cell_type": "code",
   "execution_count": 29,
   "metadata": {},
   "outputs": [
    {
     "name": "stderr",
     "output_type": "stream",
     "text": [
      "/home/visa/.local/lib/python3.5/site-packages/sklearn/preprocessing/label.py:151: DeprecationWarning: The truth value of an empty array is ambiguous. Returning False, but in future this will result in an error. Use `array.size > 0` to check that an array is not empty.\n",
      "  if diff:\n"
     ]
    }
   ],
   "source": [
    "pred = clf.predict( X_test )"
   ]
  },
  {
   "cell_type": "code",
   "execution_count": 36,
   "metadata": {},
   "outputs": [
    {
     "data": {
      "text/plain": [
       "array([0, 0, 0, ..., 0, 1, 0])"
      ]
     },
     "execution_count": 36,
     "metadata": {},
     "output_type": "execute_result"
    }
   ],
   "source": [
    "pred"
   ]
  },
  {
   "cell_type": "code",
   "execution_count": 30,
   "metadata": {},
   "outputs": [
    {
     "data": {
      "text/plain": [
       "array([[51944,  1010],\n",
       "       [ 4155,  8080]])"
      ]
     },
     "execution_count": 30,
     "metadata": {},
     "output_type": "execute_result"
    }
   ],
   "source": [
    "confusion_matrix( y_test, pred)"
   ]
  },
  {
   "cell_type": "code",
   "execution_count": 48,
   "metadata": {},
   "outputs": [
    {
     "data": {
      "text/plain": [
       "0.9207688413689427"
      ]
     },
     "execution_count": 48,
     "metadata": {},
     "output_type": "execute_result"
    }
   ],
   "source": [
    "(51944+8080)/(51944+1010+8080+4155.0)"
   ]
  },
  {
   "cell_type": "code",
   "execution_count": 49,
   "metadata": {},
   "outputs": [
    {
     "data": {
      "text/plain": [
       "0.8888888888888888"
      ]
     },
     "execution_count": 49,
     "metadata": {},
     "output_type": "execute_result"
    }
   ],
   "source": [
    "8080/(8080+1010.0)"
   ]
  },
  {
   "cell_type": "code",
   "execution_count": 51,
   "metadata": {},
   "outputs": [
    {
     "data": {
      "text/plain": [
       "0.6604004903964038"
      ]
     },
     "execution_count": 51,
     "metadata": {},
     "output_type": "execute_result"
    }
   ],
   "source": [
    "8080/(8080+4155.0)"
   ]
  },
  {
   "cell_type": "code",
   "execution_count": 52,
   "metadata": {},
   "outputs": [
    {
     "data": {
      "text/plain": [
       "0.7542857142857142"
      ]
     },
     "execution_count": 52,
     "metadata": {},
     "output_type": "execute_result"
    }
   ],
   "source": [
    "2*0.88*0.66/(0.88+0.66)"
   ]
  }
 ],
 "metadata": {
  "kernelspec": {
   "display_name": "Python 3",
   "language": "python",
   "name": "python3"
  },
  "language_info": {
   "codemirror_mode": {
    "name": "ipython",
    "version": 3
   },
   "file_extension": ".py",
   "mimetype": "text/x-python",
   "name": "python",
   "nbconvert_exporter": "python",
   "pygments_lexer": "ipython3",
   "version": "3.5.2"
  }
 },
 "nbformat": 4,
 "nbformat_minor": 2
}
