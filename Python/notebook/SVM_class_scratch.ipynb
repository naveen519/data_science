{
 "cells": [
  {
   "cell_type": "code",
   "execution_count": 1,
   "metadata": {},
   "outputs": [],
   "source": [
    "from sklearn.model_selection import train_test_split\n",
    "import numpy as np\n",
    "import matplotlib.pyplot as plt\n",
    "# matplotlib inline"
   ]
  },
  {
   "cell_type": "code",
   "execution_count": 29,
   "metadata": {},
   "outputs": [],
   "source": [
    "class OurOwnSVM:\n",
    "    def __init__(self, C=1.0):\n",
    "        self.C = C\n",
    "        \n",
    "    def our_objective_fn(self, margins):\n",
    "        obj_fun_val = 0.5 * self.w.dot(self.w) + self.C * np.maximum(0, 1-margins).sum()\n",
    "        \n",
    "    def fit_SVM(self,X,Y,lr=1e-05, num_epochs=500):\n",
    "        N, D = X.shape\n",
    "        self.N = N\n",
    "        self.w = np.random.randn(D)\n",
    "        self.b = 0\n",
    "        \n",
    "        #gradient descent calculation\n",
    "        losses=[]\n",
    "        for epoch_iter in range(num_epochs):\n",
    "            margins= Y*self.our_decision_fn(X)\n",
    "            loss=self.our_objective_fn(margins)\n",
    "            losses.append(loss)\n",
    "            \n",
    "            idx = np.where(margins < 1)[0]\n",
    "            delta_w = self.w - self.C * Y[idx].dot(X[idx])\n",
    "            self.w -=  (lr * delta_w)\n",
    "            delta_b = -self.C * Y[idx].sum()\n",
    "            self.b -= lr * delta_b \n",
    "            \n",
    "        print(\"w:\", self.w)\n",
    "        print(\"b:\", self.b)\n",
    "        \n",
    "        #plot the loss\n",
    "        #print(losses)\n",
    "        plt.plot(losses)\n",
    "        plt.title(\"loss per iteration\")\n",
    "        plt.show()\n",
    "            \n",
    "        \n",
    "    def our_decision_fn(self, X):\n",
    "        return X.dot(self.w) + self.b\n",
    "        \n",
    "    def predict_SVM(self, X):\n",
    "        return np.sign(self.our_decision_fn(X))\n",
    "    \n",
    "    def scoring(self,X,Y):\n",
    "        y_pred = self.predict_SVM(X)\n",
    "        precision_rate = np.mean(y_pred == Y)\n",
    "        return precision_rate\n",
    "        \n",
    "def load_custom_data():\n",
    "    Xtrain = np.array([[-2,4],[4,1],[1,6],[2,4],[6,2]])\n",
    "    Ytrain = np.array([-1,-1,1,1,1])\n",
    "    Xtest = np.array([[-1,3],[5,5]])\n",
    "    Ytest = np.array([-1,1])\n",
    "    return Xtrain, Xtest, Ytrain, Ytest, 1e-03, 10000\n",
    "\n",
    "def plot_decision_boundary(model, X, Y, resolution=100, colors=('b', 'k', 'r')):\n",
    "    np.warnings.filterwarnings('ignore')\n",
    "    fig, ax = plt.subplots()\n",
    "\n",
    "    # Generate coordinate grid of shape [resolution x resolution]\n",
    "    # and evaluate the model over the entire space\n",
    "    x_range = np.linspace(X[:,0].min(), X[:,0].max(), resolution)\n",
    "    y_range = np.linspace(X[:,1].min(), X[:,1].max(), resolution)\n",
    "    grid = [[model.our_decision_fn(np.array([[xr, yr]])) for yr in y_range] for xr in x_range]\n",
    "    grid = np.array(grid).reshape(len(x_range), len(y_range))\n",
    "\n",
    "    # Plot decision contours using grid and\n",
    "    # make a scatter plot of training data\n",
    "    ax.contour(x_range, y_range, grid.T, (-1, 0, 1), linewidths=(1, 1, 1),\n",
    "             linestyles=('--', '-', '--'), colors=colors)\n",
    "    ax.scatter(X[:,0], X[:,1],\n",
    "             c=Y, lw=0, alpha=0.3, cmap='seismic')\n",
    "\n",
    "    \n",
    "\n",
    "    plt.show()\n",
    "    \n",
    "        "
   ]
  },
  {
   "cell_type": "code",
   "execution_count": 14,
   "metadata": {},
   "outputs": [
    {
     "name": "stdout",
     "output_type": "stream",
     "text": [
      "Correct test labels: [-1 -1  1  1  1]\n",
      "w: [0.50029108 1.00049116]\n",
      "b: -4.017999999999978\n"
     ]
    },
    {
     "data": {
      "image/png": "[encoded data removed]",
      "text/plain": [
       "<Figure size 432x288 with 1 Axes>"
      ]
     },
     "metadata": {
      "needs_background": "light"
     },
     "output_type": "display_data"
    }
   ],
   "source": [
    "#load data\n",
    "\n",
    "Xtrain, Xtest, Ytrain, Ytest, lr, num_epochs = load_custom_data()\n",
    "print(\"Correct test labels:\", Ytrain)\n",
    "\n",
    "model = OurOwnSVM(C=1.0)\n",
    "model.fit_SVM(Xtrain,Ytrain,lr,num_epochs)"
   ]
  },
  {
   "cell_type": "code",
   "execution_count": 15,
   "metadata": {},
   "outputs": [
    {
     "name": "stdout",
     "output_type": "stream",
     "text": [
      "[-1.  1.]\n"
     ]
    }
   ],
   "source": [
    "Y_pred=model.predict_SVM(Xtest)\n",
    "print(Y_pred)"
   ]
  },
  {
   "cell_type": "code",
   "execution_count": 17,
   "metadata": {},
   "outputs": [
    {
     "name": "stdout",
     "output_type": "stream",
     "text": [
      "train score: 1.0\n",
      "test score 1.0\n"
     ]
    }
   ],
   "source": [
    "print(\"train score:\", model.scoring(Xtrain,Ytrain))\n",
    "print(\"test score\", model.scoring(Xtest, Ytest))"
   ]
  },
  {
   "cell_type": "code",
   "execution_count": 30,
   "metadata": {},
   "outputs": [
    {
     "data": {
      "image/png": "[encoded data removed]",
      "text/plain": [
       "<Figure size 432x288 with 1 Axes>"
      ]
     },
     "metadata": {
      "needs_background": "light"
     },
     "output_type": "display_data"
    }
   ],
   "source": [
    "plot_decision_boundary(model, Xtrain, Ytrain)"
   ]
  },
  {
   "cell_type": "code",
   "execution_count": 33,
   "metadata": {},
   "outputs": [
    {
     "data": {
      "image/png": "[encoded data removed]",
      "text/plain": [
       "<Figure size 432x288 with 1 Axes>"
      ]
     },
     "metadata": {
      "needs_background": "light"
     },
     "output_type": "display_data"
    },
    {
     "data": {
      "image/png": "[encoded data removed]",
      "text/plain": [
       "<Figure size 432x288 with 1 Axes>"
      ]
     },
     "metadata": {
      "needs_background": "light"
     },
     "output_type": "display_data"
    }
   ],
   "source": [
    "# plotting scatters  \n",
    "plt.scatter(Xtest[:, 0], Xtest[:, 1], c=Y_pred, s=50, cmap='spring'); \n",
    "plt.show()\n",
    "\n",
    "plt.scatter(Xtrain[:, 0], Xtrain[:, 1], c=Ytrain, s=50, cmap='spring'); \n",
    "plt.show()"
   ]
  },
  {
   "cell_type": "code",
   "execution_count": 32,
   "metadata": {},
   "outputs": [
    {
     "data": {
      "image/png": "[encoded data removed]",
      "text/plain": [
       "<Figure size 432x288 with 1 Axes>"
      ]
     },
     "metadata": {
      "needs_background": "light"
     },
     "output_type": "display_data"
    },
    {
     "data": {
      "image/png": "[encoded data removed]",
      "text/plain": [
       "<Figure size 432x288 with 1 Axes>"
      ]
     },
     "metadata": {
      "needs_background": "light"
     },
     "output_type": "display_data"
    }
   ],
   "source": [
    "#Now let us use SVM prediction and predict the class\n",
    "\n",
    "# import support vector classifier \n",
    "from sklearn.svm import SVC # \"Support Vector Classifier\" \n",
    "clf = SVC(kernel='linear') \n",
    "  \n",
    "# fitting x samples and y classes \n",
    "clf.fit(Xtrain, Ytrain) \n",
    "\n",
    "Y_pred = clf.predict(Xtest)\n",
    "\n",
    "# plotting scatters  \n",
    "plt.scatter(Xtest[:, 0], Xtest[:, 1], c=Y_pred, s=50, cmap='spring'); \n",
    "plt.show()\n",
    "\n",
    "plt.scatter(Xtrain[:, 0], Xtrain[:, 1], c=Ytrain, s=50, cmap='spring'); \n",
    "plt.show()"
   ]
  },
  {
   "cell_type": "code",
   "execution_count": null,
   "metadata": {},
   "outputs": [],
   "source": []
  }
 ],
 "metadata": {
  "kernelspec": {
   "display_name": "Python 3",
   "language": "python",
   "name": "python3"
  },
  "language_info": {
   "codemirror_mode": {
    "name": "ipython",
    "version": 3
   },
   "file_extension": ".py",
   "mimetype": "text/x-python",
   "name": "python",
   "nbconvert_exporter": "python",
   "pygments_lexer": "ipython3",
   "version": "3.6.8"
  }
 },
 "nbformat": 4,
 "nbformat_minor": 2
}
